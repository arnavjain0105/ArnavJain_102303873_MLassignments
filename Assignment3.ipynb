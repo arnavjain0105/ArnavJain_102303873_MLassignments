{
  "nbformat": 4,
  "nbformat_minor": 0,
  "metadata": {
    "colab": {
      "provenance": []
    },
    "kernelspec": {
      "name": "python3",
      "display_name": "Python 3"
    },
    "language_info": {
      "name": "python"
    }
  },
  "cells": [
    {
      "cell_type": "code",
      "source": [
        "import pandas as pd\n",
        "import numpy as np\n",
        "from sklearn.preprocessing import StandardScaler\n",
        "from sklearn.metrics import r2_score\n",
        "from sklearn.model_selection import KFold, train_test_split\n",
        "\n",
        "\n",
        "url=\"https://drive.google.com/uc?id=1O_NwpJT-8xGfU_-3llUl2sgPu0xllOrX&export=download\"\n",
        "data=pd.read_csv(url)\n",
        "\n",
        "\n",
        "X=data.drop('Price',axis=1).values\n",
        "y=data['Price'].values.reshape(-1, 1)\n",
        "\n",
        "scaler=StandardScaler()\n",
        "X=scaler.fit_transform(X)\n",
        "\n",
        "def add_intercept(X):\n",
        "    return np.hstack([np.ones((X.shape[0],1)),X])\n",
        "kf=KFold(n_splits=5,shuffle=True,random_state=42)\n",
        "best_r2=-np.inf\n",
        "best_beta=None\n",
        "\n",
        "for fold,(train_idx,test_idx) in enumerate(kf.split(X), 1):\n",
        "    X_train,X_test=X[train_idx],X[test_idx]\n",
        "    y_train,y_test=y[train_idx],y[test_idx]\n",
        "\n",
        "    X_train_intercept=add_intercept(X_train)\n",
        "\n",
        "    beta=np.linalg.inv(X_train_intercept.T @ X_train_intercept) @ (X_train_intercept.T @ y_train)\n",
        "\n",
        "    X_test_intercept=add_intercept(X_test)\n",
        "    y_pred=X_test_intercept @ beta\n",
        "\n",
        "    r2=r2_score(y_test, y_pred)\n",
        "    print(f\"Fold {fold} R2 score: {r2:.4f}\")\n",
        "\n",
        "    if r2>best_r2:\n",
        "        best_r2=r2\n",
        "        best_beta=beta\n",
        "\n",
        "print(f\"Best R2 score from CV:{best_r2:.4f}\")\n",
        "\n",
        "X_train_final,X_test_final,y_train_final,y_test_final=train_test_split(X,y,test_size=0.3,random_state=42)\n",
        "\n",
        "X_train_final_intercept=add_intercept(X_train_final)\n",
        "best_beta_final = np.linalg.inv(X_train_final_intercept.T @ X_train_final_intercept) @ (X_train_final_intercept.T @ y_train_final)\n",
        "\n",
        "X_test_final_intercept=add_intercept(X_test_final)\n",
        "y_pred_final=X_test_final_intercept @ best_beta_final\n",
        "\n",
        "final_r2=r2_score(y_test_final,y_pred_final)\n",
        "print(f\"Final test R2 score (70/30 split):{final_r2:.4f}\")\n",
        "\n"
      ],
      "metadata": {
        "colab": {
          "base_uri": "https://localhost:8080/"
        },
        "id": "Jup8jjd4LJqm",
        "outputId": "3bdd5796-2dfb-4b81-c6c0-022298336799"
      },
      "execution_count": 7,
      "outputs": [
        {
          "output_type": "stream",
          "name": "stdout",
          "text": [
            "Fold 1 R2 score: 0.9180\n",
            "Fold 2 R2 score: 0.9146\n",
            "Fold 3 R2 score: 0.9116\n",
            "Fold 4 R2 score: 0.9193\n",
            "Fold 5 R2 score: 0.9244\n",
            "Best R2 score from CV:0.9244\n",
            "Final test R2 score (70/30 split):0.9147\n"
          ]
        }
      ]
    },
    {
      "cell_type": "code",
      "source": [
        "print(data.columns)"
      ],
      "metadata": {
        "colab": {
          "base_uri": "https://localhost:8080/"
        },
        "id": "hvWzju0pNTBv",
        "outputId": "98c0ad58-ee1c-45ee-d151-57d06b1a594d"
      },
      "execution_count": 6,
      "outputs": [
        {
          "output_type": "stream",
          "name": "stdout",
          "text": [
            "Index(['Avg. Area Income', 'Avg. Area House Age', 'Avg. Area Number of Rooms',\n",
            "       'Avg. Area Number of Bedrooms', 'Area Population', 'Price'],\n",
            "      dtype='object')\n"
          ]
        }
      ]
    },
    {
      "cell_type": "code",
      "source": [
        "import pandas as pd\n",
        "import numpy as np\n",
        "from sklearn.preprocessing import StandardScaler\n",
        "from sklearn.metrics import r2_score\n",
        "from sklearn.model_selection import train_test_split\n",
        "\n",
        "url=\"https://drive.google.com/uc?id=1O_NwpJT-8xGfU_-3llUl2sgPu0xllOrX&export=download\"\n",
        "data=pd.read_csv(url)\n",
        "\n",
        "col='Price'\n",
        "X=data.drop(col, axis=1).values\n",
        "y=data[col].values.reshape(-1,1)\n",
        "\n",
        "scaler=StandardScaler()\n",
        "X_scaled=scaler.fit_transform(X)\n",
        "\n",
        "def add_intercept(X):\n",
        "    return np.hstack([np.ones((X.shape[0],1)),X])\n",
        "\n",
        "X_temp,X_test,y_temp,y_test=train_test_split(X_scaled,y,test_size=0.3,random_state=42)\n",
        "X_train,X_val,y_train,y_val=train_test_split(X_temp,y_temp,test_size=0.2,random_state=42)\n",
        "\n",
        "X_train=add_intercept(X_train)\n",
        "X_val=add_intercept(X_val)\n",
        "X_test=add_intercept(X_test)\n",
        "\n",
        "def gradient_descent(X, y, beta, lr, iters):\n",
        "    m=len(y)\n",
        "    for _ in range(iters):\n",
        "        error=X @ beta - y\n",
        "        grad=(X.T @ error)/m\n",
        "        beta=beta-(lr*grad)\n",
        "    return beta\n",
        "\n",
        "lrs=[0.001,0.01,0.1,1]\n",
        "iters=1000\n",
        "best_val_r2=-np.inf\n",
        "best_beta=None\n",
        "best_lr=None\n",
        "\n",
        "for lr in lrs:\n",
        "    beta=np.zeros((X_train.shape[1],1))\n",
        "    beta=gradient_descent(X_train,y_train,beta,lr,iters)\n",
        "    val_r2=r2_score(y_val,X_val @ beta)\n",
        "    test_r2=r2_score(y_test,X_test @ beta)\n",
        "    print(f\"LR:{lr}|Val R2: {val_r2:.4f}|Test R2: {test_r2:.4f}\")\n",
        "    if val_r2>best_val_r2:\n",
        "        best_val_r2=val_r2\n",
        "        best_beta=beta\n",
        "        best_lr=lr\n",
        "\n",
        "print(f\"Best LR:{best_lr} with Val R2:{best_val_r2:.4f}\")\n",
        "print(f\"Test R2 with best model:{r2_score(y_test, X_test @ best_beta):.4f}\")\n"
      ],
      "metadata": {
        "colab": {
          "base_uri": "https://localhost:8080/"
        },
        "id": "6B-pYwfPNU92",
        "outputId": "ef50fc56-9081-41d1-e180-f96d08c97087"
      },
      "execution_count": 9,
      "outputs": [
        {
          "output_type": "stream",
          "name": "stdout",
          "text": [
            "LR:0.001|Val R2: -0.8125|Test R2: -0.9914\n",
            "LR:0.01|Val R2: 0.9098|Test R2: 0.9147\n",
            "LR:0.1|Val R2: 0.9098|Test R2: 0.9148\n",
            "LR:1|Val R2: 0.9098|Test R2: 0.9148\n",
            "Best LR:0.01 with Val R2:0.9098\n",
            "Test R2 with best model:0.9147\n"
          ]
        }
      ]
    },
    {
      "cell_type": "code",
      "source": [
        "import pandas as pd\n",
        "import numpy as np\n",
        "from sklearn.preprocessing import LabelEncoder, StandardScaler\n",
        "from sklearn.linear_model import LinearRegression\n",
        "from sklearn.model_selection import train_test_split\n",
        "from sklearn.decomposition import PCA\n",
        "from sklearn.metrics import r2_score\n",
        "\n",
        "cols=[\"symboling\",\"normalized_losses\",\"make\",\"fuel_type\",\"aspiration\",\"num_doors\",\"body_style\",\"drive_wheels\",\"engine_location\",\"wheel_base\",\"length\",\"width\",\"height\",\"curb_weight\",\"engine_type\",\"num_cylinders\",\"engine_size\",\"fuel_system\",\"bore\",\"stroke\",\"compression_ratio\",\"horsepower\",\"peak_rpm\",\"city_mpg\",\"highway_mpg\",\"price\"]\n",
        "url=\"https://archive.ics.uci.edu/ml/machine-learning-databases/autos/imports-85.data\"\n",
        "df=pd.read_csv(url,names=cols,na_values='?')\n",
        "\n",
        "df.dropna(subset=['price'],inplace=True)\n",
        "num_cols=df.select_dtypes(include=[np.number]).columns.tolist()\n",
        "cat_cols=df.select_dtypes(include=[object]).columns.tolist()\n",
        "\n",
        "for c in num_cols:\n",
        "    if df[c].isnull().any():\n",
        "        df[c].fillna(df[c].mean(),inplace=True)\n",
        "for c in cat_cols:\n",
        "    if df[c].isnull().any():\n",
        "        df[c].fillna(df[c].mode()[0],inplace=True)\n",
        "\n",
        "words={'two':2,'three':3,'four':4,'five':5,'six':6,'eight':8,'twelve':12}\n",
        "df['num_doors']=df['num_doors'].map(words)\n",
        "df['num_cylinders']=df['num_cylinders'].map(words)\n",
        "\n",
        "df=pd.get_dummies(df,columns=['body_style','drive_wheels'],drop_first=True)\n",
        "\n",
        "for c in ['make','aspiration','engine_location','fuel_type']:\n",
        "    df[c]=LabelEncoder().fit_transform(df[c])\n",
        "\n",
        "df['fuel_system']=df['fuel_system'].apply(lambda x:1 if 'pfi' in x else 0)\n",
        "df['engine_type']=df['engine_type'].apply(lambda x:1 if 'ohc' in x else 0)\n",
        "\n",
        "X=df.drop('price',axis=1)\n",
        "y=df['price'].astype(float)\n",
        "\n",
        "X_scaled=StandardScaler().fit_transform(X)\n",
        "X_train,X_test,y_train,y_test=train_test_split(X_scaled,y,test_size=0.3,random_state=42)\n",
        "\n",
        "model=LinearRegression().fit(X_train,y_train)\n",
        "print(\"R2 without PCA:\",r2_score(y_test,model.predict(X_test)))\n",
        "\n",
        "pca=PCA(n_components=0.95)\n",
        "X_train_pca=pca.fit_transform(X_train)\n",
        "X_test_pca=pca.transform(X_test)\n",
        "\n",
        "model_pca=LinearRegression().fit(X_train_pca,y_train)\n",
        "print(\"R2 with PCA:\",r2_score(y_test,model_pca.predict(X_test_pca)))\n"
      ],
      "metadata": {
        "colab": {
          "base_uri": "https://localhost:8080/"
        },
        "id": "kjFZtYy6OqT3",
        "outputId": "012b3bd3-00a0-4ca9-9106-b832328df087"
      },
      "execution_count": 11,
      "outputs": [
        {
          "output_type": "stream",
          "name": "stdout",
          "text": [
            "R2 without PCA: 0.8732775682086301\n",
            "R2 with PCA: 0.85376827630017\n"
          ]
        },
        {
          "output_type": "stream",
          "name": "stderr",
          "text": [
            "/tmp/ipython-input-2428356141.py:19: FutureWarning: A value is trying to be set on a copy of a DataFrame or Series through chained assignment using an inplace method.\n",
            "The behavior will change in pandas 3.0. This inplace method will never work because the intermediate object on which we are setting values always behaves as a copy.\n",
            "\n",
            "For example, when doing 'df[col].method(value, inplace=True)', try using 'df.method({col: value}, inplace=True)' or df[col] = df[col].method(value) instead, to perform the operation inplace on the original object.\n",
            "\n",
            "\n",
            "  df[c].fillna(df[c].mean(),inplace=True)\n",
            "/tmp/ipython-input-2428356141.py:22: FutureWarning: A value is trying to be set on a copy of a DataFrame or Series through chained assignment using an inplace method.\n",
            "The behavior will change in pandas 3.0. This inplace method will never work because the intermediate object on which we are setting values always behaves as a copy.\n",
            "\n",
            "For example, when doing 'df[col].method(value, inplace=True)', try using 'df.method({col: value}, inplace=True)' or df[col] = df[col].method(value) instead, to perform the operation inplace on the original object.\n",
            "\n",
            "\n",
            "  df[c].fillna(df[c].mode()[0],inplace=True)\n"
          ]
        }
      ]
    }
  ]
}