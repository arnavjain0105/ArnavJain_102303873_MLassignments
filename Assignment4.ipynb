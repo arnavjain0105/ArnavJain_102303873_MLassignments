{
  "nbformat": 4,
  "nbformat_minor": 0,
  "metadata": {
    "colab": {
      "provenance": []
    },
    "kernelspec": {
      "name": "python3",
      "display_name": "Python 3"
    },
    "language_info": {
      "name": "python"
    }
  },
  "cells": [
    {
      "cell_type": "code",
      "source": [
        "import requests\n",
        "from bs4 import BeautifulSoup\n",
        "import pandas as pd\n",
        "BASE_URL=\"https://books.toscrape.com/catalogue/page-{}.html\"\n",
        "books=[]\n",
        "page=1\n",
        "while True:\n",
        "    url=BASE_URL.format(page)\n",
        "    response=requests.get(url)\n",
        "    if response.status_code!=200:\n",
        "        break\n",
        "    soup=BeautifulSoup(response.text,\"html.parser\")\n",
        "    articles=soup.find_all(\"article\", class_=\"product_pod\")\n",
        "    if not articles:\n",
        "        break\n",
        "    for article in articles:\n",
        "        title=article.h3.a[\"title\"]\n",
        "        price=article.find(\"p\",class_=\"price_color\").text.strip()\n",
        "        availability=article.find(\"p\",class_=\"instock availability\").text.strip()\n",
        "        star_rating=article.p.get(\"class\")[1]\n",
        "        books.append({\n",
        "            \"Title\":title,\n",
        "            \"Price\":price,\n",
        "            \"Availability\":availability,\n",
        "            \"Star Rating\":star_rating\n",
        "        })\n",
        "    page+=1\n",
        "df_books=pd.DataFrame(books)\n",
        "df_books.to_csv(\"books.csv\", index=False)\n",
        "URL=\"https://www.imdb.com/chart/top/\"\n",
        "response=requests.get(URL)\n",
        "soup=BeautifulSoup(response.text, \"html.parser\")\n",
        "movies=[]\n",
        "rows=soup.select(\"tbody.lister-list tr\")\n",
        "for row in rows:\n",
        "    rank=int(row.find(\"td\", class_=\"titleColumn\").get_text(strip=True).split(\".\")[0])\n",
        "    title=row.find(\"td\", class_=\"titleColumn\").a.text\n",
        "    year=row.find(\"span\", class_=\"secondaryInfo\").text.strip(\"()\")\n",
        "    rating=row.find(\"td\", class_=\"ratingColumn imdbRating\").strong.text\n",
        "    movies.append({\n",
        "        \"Rank\":rank,\n",
        "        \"Title\":title,\n",
        "        \"Year\":year,\n",
        "        \"IMDB Rating\":rating\n",
        "    })\n",
        "df_movies=pd.DataFrame(movies)\n",
        "df_movies.to_csv(\"imdb_top250.csv\",index=False)\n",
        "URL=\"https://www.timeanddate.com/weather/\"\n",
        "response=requests.get(URL)\n",
        "soup=BeautifulSoup(response.text, \"html.parser\")\n",
        "cities_data=[]\n",
        "table=soup.find(\"table\", class_=\"zebra tb-wt fw va-m tb-hover\")\n",
        "if table:\n",
        "    rows=table.find(\"tbody\").find_all(\"tr\")\n",
        "    for row in rows:\n",
        "        cols=row.find_all(\"td\")\n",
        "        if len(cols)>=3:\n",
        "            city=cols[0].get_text(strip=True)\n",
        "            temp=cols[1].get_text(strip=True)\n",
        "            condition=cols[2].get_text(strip=True)\n",
        "            cities_data.append({\n",
        "                \"City\":city,\n",
        "                \"Temperature\":temp,\n",
        "                \"Condition\":condition\n",
        "            })\n",
        "df_weather=pd.DataFrame(cities_data)\n",
        "df_weather.to_csv(\"weather.csv\",index=False)"
      ],
      "metadata": {
        "id": "mehltofPLFcC"
      },
      "execution_count": 30,
      "outputs": []
    },
    {
      "cell_type": "code",
      "source": [],
      "metadata": {
        "id": "GadlXncFLFei"
      },
      "execution_count": null,
      "outputs": []
    },
    {
      "cell_type": "code",
      "source": [],
      "metadata": {
        "id": "2KBKNGQ-LFhS"
      },
      "execution_count": null,
      "outputs": []
    }
  ]
}