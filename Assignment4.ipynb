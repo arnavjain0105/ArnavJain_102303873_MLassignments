{
 "cells": [
  {
   "cell_type": "code",
   "execution_count": 1,
   "id": "300b97c9-a2e0-4912-b060-f108b5904929",
   "metadata": {},
   "outputs": [],
   "source": [
    "import requests\n",
    "from bs4 import BeautifulSoup\n",
    "import pandas as pd"
   ]
  },
  {
   "cell_type": "code",
   "execution_count": 2,
   "id": "4eb696a7-14e6-4544-9dce-b0e8c1a737e7",
   "metadata": {},
   "outputs": [],
   "source": [
    "BASE_URL = \"https://books.toscrape.com/catalogue/page-{}.html\"\n",
    "books = []\n",
    "page = 1\n",
    "while True:\n",
    "    url = BASE_URL.format(page)\n",
    "    response = requests.get(url)\n",
    "    if response.status_code != 200: \n",
    "        break\n",
    "    soup = BeautifulSoup(response.text, \"html.parser\")\n",
    "    articles = soup.find_all(\"article\", class_=\"product_pod\")\n",
    "    if not articles:\n",
    "        break\n",
    "    for article in articles:\n",
    "        title = article.h3.a[\"title\"]\n",
    "        price = article.find(\"p\", class_=\"price_color\").text.strip()\n",
    "        availability = article.find(\"p\", class_=\"instock availability\").text.strip()\n",
    "        star_rating = article.p.get(\"class\")[1]  # e.g. [\"star-rating\", \"Three\"]\n",
    "        books.append({\n",
    "            \"Title\": title,\n",
    "            \"Price\": price,\n",
    "            \"Availability\": availability,\n",
    "            \"Star Rating\": star_rating\n",
    "        })\n",
    "    page += 1"
   ]
  },
  {
   "cell_type": "code",
   "execution_count": 3,
   "id": "42370ff7-f012-46f9-8192-836df0725f85",
   "metadata": {},
   "outputs": [],
   "source": [
    "df_books = pd.DataFrame(books)\n",
    "df_books.to_csv(\"books.csv\", index=False)"
   ]
  },
  {
   "cell_type": "code",
   "execution_count": 4,
   "id": "ab8e24c0-05c6-423a-a054-5fb7171607a3",
   "metadata": {},
   "outputs": [],
   "source": [
    "URL = \"https://www.imdb.com/chart/top/\"\n",
    "response = requests.get(URL)\n",
    "soup = BeautifulSoup(response.text, \"html.parser\")\n",
    "movies = []\n",
    "rows = soup.select(\"tbody.lister-list tr\")"
   ]
  },
  {
   "cell_type": "code",
   "execution_count": 5,
   "id": "f56a82ee-26db-480b-9c65-18cfe5a8f129",
   "metadata": {},
   "outputs": [],
   "source": [
    "for row in rows:\n",
    "    rank = int(row.find(\"td\", class_=\"titleColumn\").get_text(strip=True).split(\".\")[0])\n",
    "    title = row.find(\"td\", class_=\"titleColumn\").a.text\n",
    "    year = row.find(\"span\", class_=\"secondaryInfo\").text.strip(\"()\")\n",
    "    rating = row.find(\"td\", class_=\"ratingColumn imdbRating\").strong.text\n",
    "    movies.append({\n",
    "        \"Rank\": rank,\n",
    "        \"Title\": title,\n",
    "        \"Year\": year,\n",
    "        \"IMDB Rating\": rating\n",
    "    })"
   ]
  },
  {
   "cell_type": "code",
   "execution_count": 6,
   "id": "ec16dc16-6081-442d-ba61-f5952704b128",
   "metadata": {},
   "outputs": [],
   "source": [
    "df_movies = pd.DataFrame(movies)\n",
    "df_movies.to_csv(\"imdb_top250.csv\", index=False)"
   ]
  },
  {
   "cell_type": "code",
   "execution_count": 7,
   "id": "e8083d0c-dc60-4675-8bfe-2b9979bd8b4b",
   "metadata": {},
   "outputs": [],
   "source": [
    "URL = \"https://www.timeanddate.com/weather/\"\n",
    "response = requests.get(URL)\n",
    "soup = BeautifulSoup(response.text, \"html.parser\")\n",
    "cities_data = []\n",
    "table = soup.find(\"table\", class_=\"zebra tb-wt fw va-m tb-hover\")"
   ]
  },
  {
   "cell_type": "code",
   "execution_count": 8,
   "id": "b629516c-3e37-4c3a-8d73-70298972ea46",
   "metadata": {},
   "outputs": [],
   "source": [
    "if table:\n",
    "    rows = table.find(\"tbody\").find_all(\"tr\")\n",
    "    for row in rows:\n",
    "        cols = row.find_all(\"td\")\n",
    "        if len(cols) >= 3:\n",
    "            city = cols[0].get_text(strip=True)\n",
    "            temp = cols[1].get_text(strip=True)\n",
    "            condition = cols[2].get_text(strip=True)\n",
    "            cities_data.append({\n",
    "                \"City\": city,\n",
    "                \"Temperature\": temp,\n",
    "                \"Condition\": condition\n",
    "            })"
   ]
  },
  {
   "cell_type": "code",
   "execution_count": 10,
   "id": "ac3add6d-9863-4902-bbf8-e11e8d6ddc84",
   "metadata": {},
   "outputs": [],
   "source": [
    "df_weather = pd.DataFrame(cities_data)\n",
    "df_weather.to_csv(\"weather.csv\", index=False)"
   ]
  },
  {
   "cell_type": "code",
   "execution_count": null,
   "id": "429bd1cf-d8ec-4410-b7cc-82225413237a",
   "metadata": {},
   "outputs": [],
   "source": []
  }
 ],
 "metadata": {
  "kernelspec": {
   "display_name": "Python 3 (ipykernel)",
   "language": "python",
   "name": "python3"
  },
  "language_info": {
   "codemirror_mode": {
    "name": "ipython",
    "version": 3
   },
   "file_extension": ".py",
   "mimetype": "text/x-python",
   "name": "python",
   "nbconvert_exporter": "python",
   "pygments_lexer": "ipython3",
   "version": "3.11.7"
  }
 },
 "nbformat": 4,
 "nbformat_minor": 5
}
