{
  "nbformat": 4,
  "nbformat_minor": 0,
  "metadata": {
    "colab": {
      "provenance": []
    },
    "kernelspec": {
      "name": "python3",
      "display_name": "Python 3"
    },
    "language_info": {
      "name": "python"
    }
  },
  "cells": [
    {
      "cell_type": "code",
      "execution_count": null,
      "metadata": {
        "id": "25YBzjwM-MCN"
      },
      "outputs": [],
      "source": []
    },
    {
      "cell_type": "markdown",
      "source": [
        "Q1: Questions on Basic NumPy Array\n",
        "(a) Reverse the NumPy array: arr = np.array([1, 2, 3, 6, 4, 5])"
      ],
      "metadata": {
        "id": "XR7cr8Gw-Oxh"
      }
    },
    {
      "cell_type": "code",
      "source": [
        "import numpy as np\n",
        "arr=np.array([1,2,3,6,4])\n",
        "rev= arr[::-1]\n",
        "r= np.flip(arr)\n",
        "r"
      ],
      "metadata": {
        "colab": {
          "base_uri": "https://localhost:8080/"
        },
        "id": "UGHD95dG-Uwe",
        "outputId": "03f835cc-cba4-4f21-9f81-fcbe678b7519"
      },
      "execution_count": null,
      "outputs": [
        {
          "output_type": "execute_result",
          "data": {
            "text/plain": [
              "array([4, 6, 3, 2, 1])"
            ]
          },
          "metadata": {},
          "execution_count": 8
        }
      ]
    },
    {
      "cell_type": "markdown",
      "source": [
        "(b) Flatten the NumPy arr: array1 = np.array([[1, 2, 3], [2, 4, 5], [1, 2, 3]]) using any two\n",
        "NumPy in-built methods"
      ],
      "metadata": {
        "id": "GqgS4Y96_D9I"
      }
    },
    {
      "cell_type": "code",
      "source": [
        "import numpy as np\n",
        "a=np.array([[1,2,3],[2,4,5],[1,2,3]])\n",
        "fla=a.flatten()\n",
        "fla"
      ],
      "metadata": {
        "colab": {
          "base_uri": "https://localhost:8080/"
        },
        "id": "CcEYEgy2_HZd",
        "outputId": "01226559-91d1-46e9-d9ed-a17771657d62"
      },
      "execution_count": null,
      "outputs": [
        {
          "output_type": "execute_result",
          "data": {
            "text/plain": [
              "array([1, 2, 3, 2, 4, 5, 1, 2, 3])"
            ]
          },
          "metadata": {},
          "execution_count": 12
        }
      ]
    },
    {
      "cell_type": "markdown",
      "source": [
        "(c) Compare the following numpy arrays:\n",
        "arr1 = np.array([[1, 2], [3, 4]])\n",
        "arr2 = np.array([[1, 2], [3, 4]])"
      ],
      "metadata": {
        "id": "2NrNwl8P_rv0"
      }
    },
    {
      "cell_type": "code",
      "source": [
        "import numpy as np\n",
        "arr1=np.array([[1,2],[3,4]])\n",
        "arr2=np.array([[1,2],[3,4]])\n",
        "#print(\"compare\", arr1==arr2)\n",
        "print(np.array_equal(arr1,arr2))"
      ],
      "metadata": {
        "colab": {
          "base_uri": "https://localhost:8080/"
        },
        "id": "wgU2MbtX_t_t",
        "outputId": "87b61519-f0d1-4c9e-fccd-bf99d9261655"
      },
      "execution_count": null,
      "outputs": [
        {
          "output_type": "stream",
          "name": "stdout",
          "text": [
            "True\n"
          ]
        }
      ]
    },
    {
      "cell_type": "markdown",
      "source": [
        "(d) Find the most frequent value and their indice(s) in the following arrays:\n",
        "i.\n",
        "x = np.array([1,2,3,4,5,1,2,1,1,1]) ii.\n",
        "y = np.array([1, 1, 1, 2, 3, 4, 2, 4, 3, 3, ])"
      ],
      "metadata": {
        "id": "JXXGNCD6BQCr"
      }
    },
    {
      "cell_type": "code",
      "source": [
        "import numpy as np\n",
        "x=np.array([1,2,3,4,5,1,2,1,1,1])\n",
        "y=np.array([1,1,1,2,3,4,2,4,3,3])\n",
        "freq_x= np.bincount(x).argmax()\n",
        "freq_y= np.bincount(y).argmax()\n",
        "#using where to print only the values where it's true\n",
        "print(\"i. most freq value:\", freq_x, \" index:\", np.where(x==freq_x)[0])\n",
        "print(\"ii. most freq value:\", freq_y, \"index:\", np.where(y==freq_y)[0])"
      ],
      "metadata": {
        "id": "go2ufvVtBShb",
        "colab": {
          "base_uri": "https://localhost:8080/"
        },
        "outputId": "0302b11a-72de-4511-d0a7-5638a78ebcf2"
      },
      "execution_count": 3,
      "outputs": [
        {
          "output_type": "stream",
          "name": "stdout",
          "text": [
            "i. most freq value: 1  index: [0 5 7 8 9]\n",
            "ii. most freq value: 1 index: [0 1 2]\n"
          ]
        }
      ]
    },
    {
      "cell_type": "markdown",
      "source": [
        "(e) For the array gfg = np.matrix('[4, 1, 9; 12, 3, 1; 4, 5, 6]'), find\n",
        "i.\n",
        "Sum of all elements\n",
        "ii.Sum of all elements row-wise  \n",
        "iii.Sum of all elements column-wise"
      ],
      "metadata": {
        "id": "kXBHyx8okuwB"
      }
    },
    {
      "cell_type": "code",
      "source": [
        "import numpy as np\n",
        "gfg= np.matrix('[4,1,9;12,3,1;4,5,6]')\n",
        "print(\"i.\", gfg.sum())\n",
        "#row axis=1\n",
        "print(\"ii.\", gfg.sum(axis=1))\n",
        "print(\"iii.\", gfg.sum(axis=0))"
      ],
      "metadata": {
        "colab": {
          "base_uri": "https://localhost:8080/"
        },
        "id": "UpPPA7ATlAZ8",
        "outputId": "da659455-f5e1-411d-8bae-8d3fa8195667"
      },
      "execution_count": 4,
      "outputs": [
        {
          "output_type": "stream",
          "name": "stdout",
          "text": [
            "i. 45\n",
            "ii. [[14]\n",
            " [16]\n",
            " [15]]\n",
            "iii. [[20  9 16]]\n"
          ]
        }
      ]
    },
    {
      "cell_type": "markdown",
      "source": [
        "(f) For the matrix: n_array = np.array([[55, 25, 15],[30, 44, 2],[11, 45, 77]]), find\n",
        "i.\n",
        "Sum of diagonal elements\n",
        "ii.Eigen values of matrix\n",
        "iii.Eigen vectors of matrix\n",
        "iv.Inverse of matrix\n",
        "v.Determinant of matrix"
      ],
      "metadata": {
        "id": "EIU5-qwzlfUm"
      }
    },
    {
      "cell_type": "code",
      "source": [
        "import numpy as np\n",
        "n_array=np.array([[55,25,15],[30,44,2],[11,45,77]])\n",
        "print(\"sum of diagonal el:\", np.trace(n_array))\n",
        "print(\"eigen val:\", np.linalg.eigvals(n_array))\n",
        "val,vec=np.linalg.eig(n_array)\n",
        "print(\"eign vec:\",vec)\n",
        "print(\"inverse:\",np.linalg.inv(n_array))\n",
        "print(\"det:\", np.linalg.det(n_array))"
      ],
      "metadata": {
        "colab": {
          "base_uri": "https://localhost:8080/"
        },
        "id": "UbRiaNqGloiL",
        "outputId": "f86e9424-40ca-496a-8190-9d707e6a108c"
      },
      "execution_count": 5,
      "outputs": [
        {
          "output_type": "stream",
          "name": "stdout",
          "text": [
            "sum of diagonal el: 176\n",
            "eigen val: [98.16835147 28.097044   49.73460452]\n",
            "eign vec: [[ 0.4574917   0.34637121 -0.15017693]\n",
            " [ 0.28447814 -0.72784061 -0.4852124 ]\n",
            " [ 0.84248058  0.59184038  0.8614034 ]]\n",
            "inverse: [[ 0.02404141 -0.00911212 -0.00444671]\n",
            " [-0.01667882  0.02966905  0.0024785 ]\n",
            " [ 0.00631287 -0.01603732  0.01217379]]\n",
            "det: 137180.0000000001\n"
          ]
        }
      ]
    },
    {
      "cell_type": "markdown",
      "source": [],
      "metadata": {
        "id": "hL2b8YYD-NAU"
      }
    },
    {
      "cell_type": "markdown",
      "source": [
        "(g) Multiply the following matrices and also find covariance between matrices using NumPy:\n",
        "i.\n",
        "p = [[1, 2], [2, 3]]\n",
        "q = [[4, 5], [6, 7]]\n",
        "ii.\n",
        "p = [[1, 2], [2, 3], [4, 5]]\n",
        "q = [[4, 5, 1], [6, 7, 2]]"
      ],
      "metadata": {
        "id": "i4hhdDiwnlBu"
      }
    },
    {
      "cell_type": "code",
      "source": [
        "import numpy as np\n",
        "p=np.array([[1,2],[2,3]])\n",
        "q=np.array([[4,5],[6,7]])\n",
        "p1=np.array([[1,2],[2,3],[4,5]])\n",
        "q1=np.array([[4,5,1],[6,7,2]])\n",
        "print(\"p*q=\", np.dot(p,q))\n",
        "print(\"p1*q1=\", np.dot(p1,q1))\n",
        "print(\"covariance of p:\", np.cov(p.T))\n",
        "print(\"covariance of q:\", np.cov(q.T))\n",
        "print(\"covariance of p1:\", np.cov(p1.T))\n",
        "print(\"covariance of q1:\", np.cov(q1.T))"
      ],
      "metadata": {
        "colab": {
          "base_uri": "https://localhost:8080/"
        },
        "id": "nQ1U7zb6nmxi",
        "outputId": "49a0e293-257b-4d18-f589-e1a34d11fe95"
      },
      "execution_count": 6,
      "outputs": [
        {
          "output_type": "stream",
          "name": "stdout",
          "text": [
            "p*q= [[16 19]\n",
            " [26 31]]\n",
            "p1*q1= [[16 19  5]\n",
            " [26 31  8]\n",
            " [46 55 14]]\n",
            "covariance of p: [[0.5 0.5]\n",
            " [0.5 0.5]]\n",
            "covariance of q: [[2. 2.]\n",
            " [2. 2.]]\n",
            "covariance of p1: [[2.33333333 2.33333333]\n",
            " [2.33333333 2.33333333]]\n",
            "covariance of q1: [[2.  2.  1. ]\n",
            " [2.  2.  1. ]\n",
            " [1.  1.  0.5]]\n"
          ]
        }
      ]
    },
    {
      "cell_type": "markdown",
      "source": [
        "(h) For the matrices: x = np.array([[2, 3, 4], [3, 2, 9]]); y = np.array([[1, 5, 0], [5, 10, 3]]),\n",
        "find inner, outer and cartesian product?"
      ],
      "metadata": {
        "id": "XlVeJJKqqiqG"
      }
    },
    {
      "cell_type": "code",
      "source": [
        "import numpy as np\n",
        "x=np.array([[2,3,4],[3,2,9]])\n",
        "y=np.array([[1,5,0],[5,10,3]])\n",
        "print('inner:',np.inner(x,y))\n",
        "print('outer:',np.outer(x.flatten(),y.flatten()))\n",
        "print('cartesian:', np.array(np.meshgrid(x.flatten(), y.flatten())))"
      ],
      "metadata": {
        "colab": {
          "base_uri": "https://localhost:8080/"
        },
        "id": "FmJyMQ54qjqY",
        "outputId": "0ec7ec11-0c97-40b5-b346-c57759624c8d"
      },
      "execution_count": 7,
      "outputs": [
        {
          "output_type": "stream",
          "name": "stdout",
          "text": [
            "inner: [[17 52]\n",
            " [13 62]]\n",
            "outer: [[ 2 10  0 10 20  6]\n",
            " [ 3 15  0 15 30  9]\n",
            " [ 4 20  0 20 40 12]\n",
            " [ 3 15  0 15 30  9]\n",
            " [ 2 10  0 10 20  6]\n",
            " [ 9 45  0 45 90 27]]\n",
            "cartesian: [[[ 2  3  4  3  2  9]\n",
            "  [ 2  3  4  3  2  9]\n",
            "  [ 2  3  4  3  2  9]\n",
            "  [ 2  3  4  3  2  9]\n",
            "  [ 2  3  4  3  2  9]\n",
            "  [ 2  3  4  3  2  9]]\n",
            "\n",
            " [[ 1  1  1  1  1  1]\n",
            "  [ 5  5  5  5  5  5]\n",
            "  [ 0  0  0  0  0  0]\n",
            "  [ 5  5  5  5  5  5]\n",
            "  [10 10 10 10 10 10]\n",
            "  [ 3  3  3  3  3  3]]]\n"
          ]
        }
      ]
    },
    {
      "cell_type": "markdown",
      "source": [
        "Q2: Based on NumPy Mathematics and Statistics\n",
        "(a)\n",
        "For the array: array = np.array([[1, -2, 3],[-4, 5, -6]])\n",
        "i.Find element-wise absolute value\n",
        "ii.Find the 25th, 50th, and 75th percentile of flattened array, for each column, for each\n",
        "row.\n",
        "iii.Mean, Median and Standard Deviation of flattened array, of each column, and\n",
        "each row"
      ],
      "metadata": {
        "id": "YSBWOJkttNV_"
      }
    },
    {
      "cell_type": "code",
      "source": [
        "import numpy as np\n",
        "arr=np.array([[1,-2,3],[-4,5,-6]])\n",
        "print('absolute value:', np.abs(arr))\n",
        "print('\\n')\n",
        "print('percentile of flattened array:', np.percentile(arr.flatten(),[25,50,76]))\n",
        "print('percentile of each column:', np.percentile(arr,[25,50,76],axis=0))\n",
        "print('percentile of each row:', np.percentile(arr,[25,50,76],axis=1))\n",
        "print('\\n')\n",
        "print('mean,median,sd of:\\nflattened array:', np.mean(arr.flatten()),np.median(arr.flatten()),np.std(arr.flatten()))\n",
        "print('each column:', np.mean(arr,axis=0),np.median(arr,axis=0),np.std(arr,axis=0))\n",
        "print('each row:', np.mean(arr,axis=1),np.median(arr,axis=1),np.std(arr,axis=1))"
      ],
      "metadata": {
        "colab": {
          "base_uri": "https://localhost:8080/"
        },
        "id": "Vctw_yXntWCI",
        "outputId": "488a467b-4b32-4998-d2d8-b94248d09d04"
      },
      "execution_count": 12,
      "outputs": [
        {
          "output_type": "stream",
          "name": "stdout",
          "text": [
            "absolute value: [[1 2 3]\n",
            " [4 5 6]]\n",
            "\n",
            "\n",
            "percentile of flattened array: [-3.5 -0.5  2.6]\n",
            "percentile of each column: [[-2.75 -0.25 -3.75]\n",
            " [-1.5   1.5  -1.5 ]\n",
            " [-0.2   3.32  0.84]]\n",
            "percentile of each row: [[-0.5  -5.  ]\n",
            " [ 1.   -4.  ]\n",
            " [ 2.04  0.68]]\n",
            "\n",
            "\n",
            "mean,median,sd of:\n",
            "flattened array: -0.5 -0.5 3.8622100754188224\n",
            "each column: [-1.5  1.5 -1.5] [-1.5  1.5 -1.5] [2.5 3.5 4.5]\n",
            "each row: [ 0.66666667 -1.66666667] [ 1. -4.] [2.05480467 4.78423336]\n"
          ]
        }
      ]
    },
    {
      "cell_type": "markdown",
      "source": [
        "(b)For the array: a = np.array([-1.8, -1.6, -0.5, 0.5,1.6, 1.8, 3.0]). Find floor, ceiling\n",
        "and truncated value, rounded values\n"
      ],
      "metadata": {
        "id": "LW38bW-Fuz-f"
      }
    },
    {
      "cell_type": "code",
      "source": [
        "import numpy as np\n",
        "a=np.array([-1.8,-1.6,-0.5,0.5,1.6,1.8,3.0])\n",
        "print('floor:', np.floor(a))\n",
        "print('ceiling:', np.ceil(a))\n",
        "print('trunc:', np.trunc(a))\n",
        "print('round:', np.round(a))"
      ],
      "metadata": {
        "colab": {
          "base_uri": "https://localhost:8080/"
        },
        "id": "bYuwkDwzv6n-",
        "outputId": "36a6bf6e-5d2a-4bfd-8873-c3d3185b9af8"
      },
      "execution_count": 13,
      "outputs": [
        {
          "output_type": "stream",
          "name": "stdout",
          "text": [
            "floor: [-2. -2. -1.  0.  1.  1.  3.]\n",
            "ceiling: [-1. -1. -0.  1.  2.  2.  3.]\n",
            "trunc: [-1. -1. -0.  0.  1.  1.  3.]\n",
            "round: [-2. -2. -0.  0.  2.  2.  3.]\n"
          ]
        }
      ]
    },
    {
      "cell_type": "markdown",
      "source": [
        "Q3: Based on Searching and Sorting\n",
        "(a) For the array: array = np.array([10, 52, 62, 16, 16, 54, 453]), find\n",
        "i.\n",
        "Sorted array\n",
        "ii.Indices of sorted array\n",
        "iii.4 smallest elements\n",
        "iv.5 largest elements"
      ],
      "metadata": {
        "id": "vp0ABJCTwYvS"
      }
    },
    {
      "cell_type": "code",
      "source": [
        "import numpy as np\n",
        "array=np.array([10,52,62,16,16,54,453])\n",
        "print('sorted:', np.sort(array))\n",
        "print('indices:', np.argsort(array))\n",
        "#shuru ke 4, :4\n",
        "print('4 smallest el:', np.sort(array)[:4])\n",
        "#[::-1] se greatest pehle arhe\n",
        "print('5 largest el:', np.sort(array)[-5:][::-1])"
      ],
      "metadata": {
        "colab": {
          "base_uri": "https://localhost:8080/"
        },
        "id": "zd3UesPbwfuV",
        "outputId": "785c9a51-da79-4aa4-8068-418db26da88a"
      },
      "execution_count": 16,
      "outputs": [
        {
          "output_type": "stream",
          "name": "stdout",
          "text": [
            "sorted: [ 10  16  16  52  54  62 453]\n",
            "indices: [0 3 4 1 5 2 6]\n",
            "4 smallest el: [10 16 16 52]\n",
            "5 largest el: [453  62  54  52  16]\n"
          ]
        }
      ]
    },
    {
      "cell_type": "markdown",
      "source": [
        "(b) For the array: array = np.array([1.0, 1.2, 2.2, 2.0, 3.0, 2.0]), find\n",
        "i. Integer elements only\n",
        "ii.Float elements only"
      ],
      "metadata": {
        "id": "4vm8p26Nxt-A"
      }
    },
    {
      "cell_type": "code",
      "source": [
        "import numpy as np\n",
        "array=np.array([1.0,1.2,2.2,2.0,3.0,2.0])\n",
        "print('integer:', array[array%1==0])\n",
        "print('float:', array[array%1!=0])"
      ],
      "metadata": {
        "colab": {
          "base_uri": "https://localhost:8080/"
        },
        "id": "WjgZ89njx1XP",
        "outputId": "f71e7b53-f176-4a22-cb1d-542cb4949ed0"
      },
      "execution_count": 17,
      "outputs": [
        {
          "output_type": "stream",
          "name": "stdout",
          "text": [
            "integer: [1. 2. 3. 2.]\n",
            "float: [1.2 2.2]\n"
          ]
        }
      ]
    }
  ]
}